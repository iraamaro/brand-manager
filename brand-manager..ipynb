{
 "cells": [
  {
   "cell_type": "code",
   "execution_count": null,
   "metadata": {},
   "outputs": [],
   "source": [
    "from dotenv import dotenv_values\n",
    "import requests\n",
    "import json\n",
    "import datetime\n",
    "import os\n",
    "import pandas as pd\n",
    "\n",
    "# ENV\n",
    "\n",
    "config = dotenv_values('.env')\n",
    "url_brands = config['VTEX_URL_B2C'] + '/api/catalog_system/pvt/brand/list'\n",
    "url_brands_delete = config['VTEX_URL_B2C'] + '/api/catalog/pvt/brand'\n",
    "headers = {\n",
    "  'X-VTEX-API-AppKey': config['X_VTEX_API_APPKEY'],\n",
    "  'X-VTEX-API-AppToken': config['X_VTEX_API_APPTOKEN']\n",
    "}\n",
    "\n",
    "# FUNCAO QUE CHAMA A LISTA DE MARCAS NO SITE B2C\n",
    "\n",
    "def list_brand(url_brands, headers, data):\n",
    "  try:\n",
    "    response = requests.get(url_brands, headers=headers)\n",
    "    response.raise_for_status()\n",
    "    if(response.status_code == 200 and len(json.loads(response.text)) > 0):\n",
    "      return { 'count': len(json.loads(response.text)), 'data': json.loads(response.text) }\n",
    "    elif (response.status_code == 200 and len(json.loads(response.text)) == 0):\n",
    "      print('Sem marcas para exibir')\n",
    "    elif (response.status_code != 200):\n",
    "      list_brand()\n",
    "  except requests.exceptions.HTTPError as e:\n",
    "    print('Erro ao chamar lista de marcas no site Kookabu\\n')\n",
    "    print(e.response.text)\n",
    "\n",
    "# FUNCAO QUE DELETA A MARCA E RETORNA OK OU NOK PARA RELATORIO\n",
    "\n",
    "def delete_brand(url_brands, headers, data):\n",
    "  try:\n",
    "    response = requests.delete(url_brands + '/' + str(data['id']), headers=headers)\n",
    "    response.raise_for_status()\n",
    "    if(response.status_code == 200):\n",
    "      print('Marca {} - ID {} - APAGADA'.format(data['name'], data['id']))\n",
    "      return { 'id': data['id'], 'marca': data['name'], 'status': 'OK' }\n",
    "    elif (response.status_code != 200):\n",
    "      delete_brand(url_brands, headers, data)\n",
    "  except requests.exceptions.HTTPError as e:\n",
    "    print('Erro ao chamar apagar a Marca {} - ID {} no site Kookabu\\n'.format(data['name'], data['id']))\n",
    "    print(e.response.text)\n",
    "    return { 'id': data['id'], 'marca': data['name'], 'status': 'NOK' }\n",
    "\n",
    "# ITERA AS MARCAS, CHAMA AS FUNCOES E AGRUPA DADOS PARA RELATORIO\n",
    "\n",
    "brand_report = []\n",
    "count = 0\n",
    "content = list_brand(url_brands, headers, {})\n",
    "for brand in content['data']:\n",
    "  if(brand['name'] == config['KEEP_BRAND_NAME'] and str(brand['id']) != config['KEEP_BRAND_ID']):\n",
    "    data = delete_brand(url_brands_delete, headers, brand)\n",
    "    if(data['status'] != 'NOK'):\n",
    "      brand_report.append(data)\n",
    "      count += 1\n",
    "    elif(data['status'] != 'OK'):\n",
    "      brand_report.append(data)\n",
    "\n",
    "# REPORT\n",
    "\n",
    "print('CONTAGEM MARCAS APAGADAS CONFORME CRITERIO CONFIGURADO (MARCA {} - ID {})\\n'.format(config['KEEP_BRAND_NAME'], config['KEEP_BRAND_ID']))\n",
    "print('LIDOS -> {}\\n'.format(content['count']))\n",
    "print('APAGADOS -> {}\\n'.format(count))\n",
    "writer = pd.ExcelWriter(os.getcwd() + '/specs/report/' + datetime.datetime.now().strftime('%Y-%m-%dT%H_%M_%S-marcas-desativadas.xlsx'), engine='xlsxwriter')\n",
    "pd.DataFrame(brand_report).to_excel(writer, sheet_name='brand_report')\n",
    "writer.save()"
   ]
  },
  {
   "cell_type": "code",
   "execution_count": null,
   "metadata": {},
   "outputs": [],
   "source": []
  }
 ],
 "metadata": {
  "kernelspec": {
   "display_name": "Python 3.10.7 64-bit",
   "language": "python",
   "name": "python3"
  },
  "language_info": {
   "codemirror_mode": {
    "name": "ipython",
    "version": 3
   },
   "file_extension": ".py",
   "mimetype": "text/x-python",
   "name": "python",
   "nbconvert_exporter": "python",
   "pygments_lexer": "ipython3",
   "version": "3.10.7"
  },
  "orig_nbformat": 4,
  "vscode": {
   "interpreter": {
    "hash": "31f2aee4e71d21fbe5cf8b01ff0e069b9275f58929596ceb00d14d90e3e16cd6"
   }
  }
 },
 "nbformat": 4,
 "nbformat_minor": 2
}
